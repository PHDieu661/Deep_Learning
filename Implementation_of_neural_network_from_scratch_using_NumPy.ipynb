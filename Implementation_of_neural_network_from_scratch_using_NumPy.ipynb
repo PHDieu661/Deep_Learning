{
  "nbformat": 4,
  "nbformat_minor": 0,
  "metadata": {
    "colab": {
      "provenance": [],
      "authorship_tag": "ABX9TyN6gdkn46JwWxI3ErP6gKGq",
      "include_colab_link": true
    },
    "kernelspec": {
      "name": "python3",
      "display_name": "Python 3"
    },
    "language_info": {
      "name": "python"
    }
  },
  "cells": [
    {
      "cell_type": "markdown",
      "metadata": {
        "id": "view-in-github",
        "colab_type": "text"
      },
      "source": [
        "<a href=\"https://colab.research.google.com/github/PHDieu661/Deep_Learning/blob/main/Implementation_of_neural_network_from_scratch_using_NumPy.ipynb\" target=\"_parent\"><img src=\"https://colab.research.google.com/assets/colab-badge.svg\" alt=\"Open In Colab\"/></a>"
      ]
    },
    {
      "cell_type": "markdown",
      "source": [
        "# Python Implementation"
      ],
      "metadata": {
        "id": "Xe63rHiyWpI4"
      }
    },
    {
      "cell_type": "markdown",
      "source": [
        "## Step 1 : Creating the Dataset Using NumPy Arrays of 0s and\n",
        "1s\n",
        "As the image is a collection of pixel values in matrix, we will create a\n",
        "simple dataset for the letters A, B, and C using binary matrices. These\n",
        "matrices represent pixel values of 5x6 grids for each letter."
      ],
      "metadata": {
        "id": "guz8XtJRWjtF"
      }
    },
    {
      "cell_type": "code",
      "execution_count": null,
      "metadata": {
        "id": "IDrdwUFvWX83"
      },
      "outputs": [],
      "source": [
        "# Creating data set\n",
        "# A\n",
        "a =[0, 0, 1, 1, 0, 0,\n",
        "0, 1, 0, 0, 1, 0,\n",
        "1, 1, 1, 1, 1, 1,\n",
        "1, 0, 0, 0, 0, 1,\n",
        "1, 0, 0, 0, 0, 1]\n",
        "# B\n",
        "b =[0, 1, 1, 1, 1, 0,\n",
        "0, 1, 0, 0, 1, 0,\n",
        "0, 1, 1, 1, 1, 0,\n",
        "0, 1, 0, 0, 1, 0,\n",
        "0, 1, 1, 1, 1, 0]\n",
        "# C\n",
        "c =[0, 1, 1, 1, 1, 0,\n",
        "0, 1, 0, 0, 0, 0,\n",
        "0, 1, 0, 0, 0, 0,\n",
        "0, 1, 0, 0, 0, 0,\n",
        "0, 1, 1, 1, 1, 0]\n",
        "# Creating labels\n",
        "y =[[1, 0, 0],\n",
        "[0, 1, 0],\n",
        "[0, 0, 1]]"
      ]
    },
    {
      "cell_type": "markdown",
      "source": [
        "## Step 2 : Visualizing the Dataset\n",
        "To visualize the datasets, we can use Matplotlib to plot the images for\n",
        "each letter. This will give us a clear understanding of what the data\n",
        "looks like before feeding it into the neural network."
      ],
      "metadata": {
        "id": "4sEYXZ2-WuB-"
      }
    },
    {
      "cell_type": "code",
      "source": [
        "import numpy as np\n",
        "import matplotlib.pyplot as plt\n",
        "# visualizing the data, plotting A.\n",
        "plt.imshow(np.array(a).reshape(5, 6))\n",
        "plt.show()\n"
      ],
      "metadata": {
        "colab": {
          "base_uri": "https://localhost:8080/",
          "height": 430
        },
        "id": "dtnvpeOLWyzr",
        "outputId": "c746dfda-5d47-4ea6-b253-d3264a067c1d"
      },
      "execution_count": null,
      "outputs": [
        {
          "output_type": "display_data",
          "data": {
            "text/plain": [
              "<Figure size 640x480 with 1 Axes>"
            ],
            "image/png": "[encoded data removed]"
          },
          "metadata": {}
        }
      ]
    },
    {
      "cell_type": "markdown",
      "source": [
        "## Step 3 : As the data set is in the form of list we will convert it into numpy array.\n",
        "We convert the lists of pixel values and the corresponding labels into\n",
        "NumPy arrays to work with them efficiently in the neural network.\n"
      ],
      "metadata": {
        "id": "uRW0n3WvW-2E"
      }
    },
    {
      "cell_type": "code",
      "source": [
        "# converting data and labels into numpy array\n",
        "x =[np.array(a).reshape(1, 30), np.array(b).reshape(1, 30), np.array(c).reshape(1, 30)]\n",
        "y = np.array(y)\n",
        "# Printing data and labels\n",
        "print(x, \"\\n\\n\", y)"
      ],
      "metadata": {
        "colab": {
          "base_uri": "https://localhost:8080/"
        },
        "id": "6Vf-92W4W5TT",
        "outputId": "caf07497-0c85-4cda-bfc4-083bd584010b"
      },
      "execution_count": null,
      "outputs": [
        {
          "output_type": "stream",
          "name": "stdout",
          "text": [
            "[array([[0, 0, 1, 1, 0, 0, 0, 1, 0, 0, 1, 0, 1, 1, 1, 1, 1, 1, 1, 0, 0, 0,\n",
            "        0, 1, 1, 0, 0, 0, 0, 1]]), array([[0, 1, 1, 1, 1, 0, 0, 1, 0, 0, 1, 0, 0, 1, 1, 1, 1, 0, 0, 1, 0, 0,\n",
            "        1, 0, 0, 1, 1, 1, 1, 0]]), array([[0, 1, 1, 1, 1, 0, 0, 1, 0, 0, 0, 0, 0, 1, 0, 0, 0, 0, 0, 1, 0, 0,\n",
            "        0, 0, 0, 1, 1, 1, 1, 0]])] \n",
            "\n",
            " [[1 0 0]\n",
            " [0 1 0]\n",
            " [0 0 1]]\n"
          ]
        }
      ]
    },
    {
      "cell_type": "markdown",
      "source": [
        "## Step 4: Defining the Architecture of the Neural Network\n",
        "Our neural network will have the following structure:\n",
        "* Input Layer: 1 layer with 30 nodes (representing the 5x6 grid).\n",
        "* Hidden Layer: 1 layer with 5 nodes.\n",
        "* Output Layer: 1 layer with 3 nodes (representing the letters A, B,\n",
        "and C).\n"
      ],
      "metadata": {
        "id": "Xgv-aY9PW2el"
      }
    },
    {
      "cell_type": "markdown",
      "source": [
        "## Step 5: Defining the Neural Network Functions\n",
        "Here, we will define the key components of the neural network:\n",
        "print(x, \"\\n\\n\", y)\n",
        "* Activation Function: We'll use the sigmoid activation function.\n",
        "* Feedforward Process: Computes the output by passing the input\n",
        "through the layers.\n",
        "* Backpropagation: Updates weights to minimize the loss.\n",
        "* Loss Function: We’ll use Mean Squared Error (MSE) to compute\n",
        "the loss.\n"
      ],
      "metadata": {
        "id": "h-02naztXXg6"
      }
    },
    {
      "cell_type": "code",
      "source": [
        "# activation function\n",
        "def sigmoid(x):\n",
        "  return(1/(1 + np.exp(-x)))\n",
        "# Creating the Feed forward neural network\n",
        "def f_forward(x, w1, w2):\n",
        "# hidden\n",
        "  z1 = x.dot(w1) # input from layer 1\n",
        "  a1 = sigmoid(z1) # out put of layer 2\n",
        "  z2 = a1.dot(w2) # input of out layer\n",
        "  a2 = sigmoid(z2) # output of out layer\n",
        "  return(a2)\n",
        "# initializing the weights randomly\n",
        "def generate_wt(x, y):\n",
        "  li =[]\n",
        "  for i in range(x * y):\n",
        "    li.append(np.random.randn())\n",
        "  return(np.array(li).reshape(x, y))\n",
        "# for loss we will be using mean square error(MSE)\n",
        "def loss(out, Y):\n",
        "  s =(np.square(out-Y))\n",
        "  s = np.sum(s)/len(y)\n",
        "  return(s)\n",
        "# Back propagation of error\n",
        "def back_prop(x, y, w1, w2, alpha):\n",
        "  # hidden layer\n",
        "  z1 = x.dot(w1)\n",
        "  a1 = sigmoid(z1)\n",
        "  z2 = a1.dot(w2)\n",
        "  a2 = sigmoid(z2)\n",
        "  # error in output layer\n",
        "  d2 =(a2-y)\n",
        "  d1 = np.multiply((w2.dot((d2.transpose()))).transpose(),\n",
        "  (np.multiply(a1, 1-a1)))\n",
        "  # Gradient for w1 and w2\n",
        "  w1_adj = x.transpose().dot(d1)\n",
        "  w2_adj = a1.transpose().dot(d2)\n",
        "  # Updating parameters\n",
        "  w1 = w1-(alpha*(w1_adj))\n",
        "  w2 = w2-(alpha*(w2_adj))\n",
        "  return(w1, w2)\n"
      ],
      "metadata": {
        "id": "OisOVShzXujD"
      },
      "execution_count": null,
      "outputs": []
    },
    {
      "cell_type": "markdown",
      "source": [
        "## Step 6: Initializing Weights\n",
        "We initialize the weights for both the hidden layer and the output\n",
        "layer randomly."
      ],
      "metadata": {
        "id": "lVykoyZcYSV3"
      }
    },
    {
      "cell_type": "code",
      "source": [
        "w1 = generate_wt(30, 5)\n",
        "w2 = generate_wt(5, 3)\n",
        "print(w1, \"\\n\\n\", w2)"
      ],
      "metadata": {
        "colab": {
          "base_uri": "https://localhost:8080/"
        },
        "id": "KkjTmyDAYbwc",
        "outputId": "9345f050-b942-47a2-cd98-ed7733c9c1d7"
      },
      "execution_count": null,
      "outputs": [
        {
          "output_type": "stream",
          "name": "stdout",
          "text": [
            "[[ 0.25961943 -0.0683312   1.18815518 -0.25073403 -0.26430639]\n",
            " [ 0.69818716  0.07083314  1.06344867  0.29090428  0.50705165]\n",
            " [-0.53129142 -1.37048199 -0.26967712 -0.21211144 -1.02334214]\n",
            " [-0.57227161 -0.60847532  0.50644948 -0.65888005 -0.22575239]\n",
            " [ 1.52802431  0.61563665 -0.32126859 -0.14254931  1.0314472 ]\n",
            " [ 0.13939784  0.71283378 -0.33052643 -1.53037399 -0.41226409]\n",
            " [ 1.40512604 -0.69655138  0.35379861  1.30079916 -0.49902668]\n",
            " [ 0.13439185  0.32969483  1.50504422  0.31557944  0.83621971]\n",
            " [-0.02402937  0.03444418 -1.63435156  0.07588163  1.67559305]\n",
            " [-0.31866557  0.1988216   0.17921897  1.09876567 -0.83075338]\n",
            " [-1.30058456 -0.50236795  1.00143985 -1.04111045 -0.49959891]\n",
            " [-0.08501494  1.40776509  1.21144024  0.28005067  0.62861441]\n",
            " [-1.02966904 -0.17725729  0.33292626  1.18085596 -0.46609177]\n",
            " [ 0.11925054 -2.45417513 -0.59518337  0.72872345 -0.01864704]\n",
            " [ 1.42999104  1.55223051 -0.81524087  0.07983891  0.65860892]\n",
            " [ 0.79392002  0.69756401  0.018647    0.85682421 -0.44738049]\n",
            " [ 0.84115383 -0.77532551  1.77324163  0.62006234 -1.87889785]\n",
            " [ 0.80026506  1.22346996  0.10451866  1.07457131 -1.6973258 ]\n",
            " [ 0.81569279  1.49468184  0.37442916  0.23160868  1.42494917]\n",
            " [ 1.39311034 -0.14196326  0.6165253   0.58906151 -0.04974766]\n",
            " [-1.15704157  0.86870815  1.50504702  0.58868943  0.16018356]\n",
            " [ 1.57625075  0.06859013 -0.68765573 -0.9164559   0.64381209]\n",
            " [ 0.50052311 -0.67952886 -2.22265375  0.99543411 -0.0305669 ]\n",
            " [-0.29304195  0.90723589  0.80103971  1.20716087  1.41939016]\n",
            " [-0.54450033 -0.93624703 -0.13122724 -0.45572838  1.63244995]\n",
            " [ 0.090186    0.4289728   1.19966803 -0.09382439 -0.36109798]\n",
            " [ 0.49656079  0.28718198 -1.29981423 -1.81207367 -0.34622271]\n",
            " [ 0.37710398  0.3218564  -0.24099408 -1.16134282  0.19608696]\n",
            " [ 0.00513913  0.35950314  0.60575014 -0.45931992 -0.46474026]\n",
            " [-1.05198173  0.42572462 -0.06108061 -0.11061688 -0.80874178]] \n",
            "\n",
            " [[-0.53879327 -0.01223722 -0.19272882]\n",
            " [ 0.18271063  0.06650244 -1.17644315]\n",
            " [ 0.43776355 -2.54579225  1.10538449]\n",
            " [-0.88783534 -0.93913225  1.85936011]\n",
            " [ 0.23565216 -0.47551681 -1.35084424]]\n"
          ]
        }
      ]
    },
    {
      "cell_type": "markdown",
      "source": [
        "## Step 7: Training the Model\n",
        "Now that we've defined the structure, functions, and initialized the\n",
        "weights, we can train the model using the train function. This function\n",
        "will update the weights through backpropagation for a specified\n",
        "number of epochs."
      ],
      "metadata": {
        "id": "ZqYsQ2s-YiOj"
      }
    },
    {
      "cell_type": "code",
      "source": [
        "def train(x, Y, w1, w2, alpha = 0.01, epoch = 10):\n",
        "  acc =[]\n",
        "  losss =[]\n",
        "  for j in range(epoch):\n",
        "    l =[]\n",
        "    for i in range(len(x)):\n",
        "      out = f_forward(x[i], w1, w2)\n",
        "      l.append((loss(out, Y[i])))\n",
        "      w1, w2 = back_prop(x[i], y[i], w1, w2, alpha)\n",
        "    print(\"epochs:\", j + 1, \"======== acc:\", (1-(sum(l)/len(x)))*100)\n",
        "    acc.append((1-(sum(l)/len(x)))*100)\n",
        "    losss.append(sum(l)/len(x))\n",
        "  return(acc, losss, w1, w2)\n",
        "\n",
        "acc, losss, w1, w2 = train(x, y, w1, w2, 0.1, 100)"
      ],
      "metadata": {
        "colab": {
          "base_uri": "https://localhost:8080/"
        },
        "id": "496K_zOfYm0G",
        "outputId": "6409e344-3125-4c29-f0c7-e990011f8a50"
      },
      "execution_count": null,
      "outputs": [
        {
          "output_type": "stream",
          "name": "stdout",
          "text": [
            "epochs: 1 ======== acc: 63.57881804393089\n",
            "epochs: 2 ======== acc: 66.33677220368209\n",
            "epochs: 3 ======== acc: 69.18313114040204\n",
            "epochs: 4 ======== acc: 72.08435496772245\n",
            "epochs: 5 ======== acc: 75.03949576279054\n",
            "epochs: 6 ======== acc: 78.0577451981419\n",
            "epochs: 7 ======== acc: 80.73099340418459\n",
            "epochs: 8 ======== acc: 82.66445501864128\n",
            "epochs: 9 ======== acc: 84.07193479117036\n",
            "epochs: 10 ======== acc: 85.19583912776481\n",
            "epochs: 11 ======== acc: 86.14892196973149\n",
            "epochs: 12 ======== acc: 86.98345367024679\n",
            "epochs: 13 ======== acc: 87.7278476928017\n",
            "epochs: 14 ======== acc: 88.40009585570064\n",
            "epochs: 15 ======== acc: 89.01287353244985\n",
            "epochs: 16 ======== acc: 89.575688783484\n",
            "epochs: 17 ======== acc: 90.09591321290523\n",
            "epochs: 18 ======== acc: 90.57935624602274\n",
            "epochs: 19 ======== acc: 91.03063485160978\n",
            "epochs: 20 ======== acc: 91.45343942106518\n",
            "epochs: 21 ======== acc: 91.85073799603131\n",
            "epochs: 22 ======== acc: 92.22493777238378\n",
            "epochs: 23 ======== acc: 92.57801352866237\n",
            "epochs: 24 ======== acc: 92.91160900535095\n",
            "epochs: 25 ======== acc: 93.22711586758052\n",
            "epochs: 26 ======== acc: 93.52573426521049\n",
            "epochs: 27 ======== acc: 93.8085185709255\n",
            "epochs: 28 ======== acc: 94.07641143332351\n",
            "epochs: 29 ======== acc: 94.33026880350796\n",
            "epochs: 30 ======== acc: 94.5708781137726\n",
            "epochs: 31 ======== acc: 94.79897134329525\n",
            "epochs: 32 ======== acc: 95.01523432159\n",
            "epochs: 33 ======== acc: 95.22031330327927\n",
            "epochs: 34 ======== acc: 95.41481959426889\n",
            "epochs: 35 ======== acc: 95.59933281113598\n",
            "epochs: 36 ======== acc: 95.77440320258295\n",
            "epochs: 37 ======== acc: 95.94055334493827\n",
            "epochs: 38 ======== acc: 96.09827943508319\n",
            "epochs: 39 ======== acc: 96.248052337566\n",
            "epochs: 40 ======== acc: 96.39031849306241\n",
            "epochs: 41 ======== acc: 96.52550075886286\n",
            "epochs: 42 ======== acc: 96.65399922565634\n",
            "epochs: 43 ======== acc: 96.77619203613881\n",
            "epochs: 44 ======== acc: 96.89243621801286\n",
            "epochs: 45 ======== acc: 97.00306853528899\n",
            "epochs: 46 ======== acc: 97.10840635629597\n",
            "epochs: 47 ======== acc: 97.20874853357371\n",
            "epochs: 48 ======== acc: 97.30437628917782\n",
            "epochs: 49 ======== acc: 97.39555409836572\n",
            "epochs: 50 ======== acc: 97.48253056477945\n",
            "epochs: 51 ======== acc: 97.56553928082107\n",
            "epochs: 52 ======== acc: 97.64479966773322\n",
            "epochs: 53 ======== acc: 97.72051779082017\n",
            "epochs: 54 ======== acc: 97.79288714617984\n",
            "epochs: 55 ======== acc: 97.86208941620913\n",
            "epochs: 56 ======== acc: 97.9282951919594\n",
            "epochs: 57 ======== acc: 97.99166466113857\n",
            "epochs: 58 ======== acc: 98.05234826117425\n",
            "epochs: 59 ======== acc: 98.11048729727166\n",
            "epochs: 60 ======== acc: 98.16621452582491\n",
            "epochs: 61 ======== acc: 98.21965470387889\n",
            "epochs: 62 ======== acc: 98.27092510560415\n",
            "epochs: 63 ======== acc: 98.32013600694418\n",
            "epochs: 64 ======== acc: 98.36739113973715\n",
            "epochs: 65 ======== acc: 98.41278811670936\n",
            "epochs: 66 ======== acc: 98.45641882879403\n",
            "epochs: 67 ======== acc: 98.49836981625428\n",
            "epochs: 68 ======== acc: 98.53872261508907\n",
            "epochs: 69 ======== acc: 98.57755408018099\n",
            "epochs: 70 ======== acc: 98.61493668661024\n",
            "epochs: 71 ======== acc: 98.6509388105128\n",
            "epochs: 72 ======== acc: 98.68562499080683\n",
            "epochs: 73 ======== acc: 98.7190561730516\n",
            "epochs: 74 ======== acc: 98.75128993664026\n",
            "epochs: 75 ======== acc: 98.78238070646329\n",
            "epochs: 76 ======== acc: 98.81237995011386\n",
            "epochs: 77 ======== acc: 98.84133636164249\n",
            "epochs: 78 ======== acc: 98.86929603280501\n",
            "epochs: 79 ======== acc: 98.89630261268651\n",
            "epochs: 80 ======== acc: 98.92239745652611\n",
            "epochs: 81 ======== acc: 98.94761976451032\n",
            "epochs: 82 ======== acc: 98.97200671125033\n",
            "epochs: 83 ======== acc: 98.99559356660804\n",
            "epochs: 84 ======== acc: 99.01841380848826\n",
            "epochs: 85 ======== acc: 99.04049922817009\n",
            "epochs: 86 ======== acc: 99.06188002870914\n",
            "epochs: 87 ======== acc: 99.082584916903\n",
            "epochs: 88 ======== acc: 99.10264118927697\n",
            "epochs: 89 ======== acc: 99.12207481251227\n",
            "epochs: 90 ======== acc: 99.140910498709\n",
            "epochs: 91 ======== acc: 99.15917177584626\n",
            "epochs: 92 ======== acc: 99.17688105377506\n",
            "epochs: 93 ======== acc: 99.19405968605527\n",
            "epochs: 94 ======== acc: 99.2107280279244\n",
            "epochs: 95 ======== acc: 99.22690549066479\n",
            "epochs: 96 ======== acc: 99.24261059261617\n",
            "epochs: 97 ======== acc: 99.25786100706256\n",
            "epochs: 98 ======== acc: 99.27267360720518\n",
            "epochs: 99 ======== acc: 99.28706450841818\n",
            "epochs: 100 ======== acc: 99.30104910796909\n"
          ]
        }
      ]
    },
    {
      "cell_type": "markdown",
      "source": [
        "## Step 8: Plotting Accuracy and Loss\n",
        "After training, we can visualize the accuracy and loss over the epochs\n",
        "to understand the model's learning process."
      ],
      "metadata": {
        "id": "8LDcx7IOZDE8"
      }
    },
    {
      "cell_type": "code",
      "source": [
        "import matplotlib.pyplot as plt1\n",
        "# plotting accuracy\n",
        "plt1.plot(acc)\n",
        "plt1.ylabel('Accuracy')\n",
        "plt1.xlabel(\"Epochs:\")\n",
        "plt1.show()\n",
        "# plotting Loss\n",
        "plt1.plot(losss)\n",
        "plt1.ylabel('Loss')\n",
        "plt1.xlabel(\"Epochs:\")\n",
        "plt1.show()"
      ],
      "metadata": {
        "colab": {
          "base_uri": "https://localhost:8080/",
          "height": 881
        },
        "id": "gPEgcAEbZGam",
        "outputId": "4de1444d-c4e8-497c-e195-4c6ff4de039a"
      },
      "execution_count": null,
      "outputs": [
        {
          "output_type": "display_data",
          "data": {
            "text/plain": [
              "<Figure size 640x480 with 1 Axes>"
            ],
            "image/png": "[encoded data removed]"
          },
          "metadata": {}
        },
        {
          "output_type": "display_data",
          "data": {
            "text/plain": [
              "<Figure size 640x480 with 1 Axes>"
            ],
            "image/png": "[encoded data removed]"
          },
          "metadata": {}
        }
      ]
    },
    {
      "cell_type": "markdown",
      "source": [
        "## Step 9: Making Predictions\n",
        "We use the trained weights to predict the letter class for a new input.\n",
        "The class with the highest output value is chosen as the predicted\n",
        "class."
      ],
      "metadata": {
        "id": "sAZ4A2EGZL0m"
      }
    },
    {
      "cell_type": "code",
      "source": [
        "def predict(x, w1, w2):\n",
        "  Out = f_forward(x, w1, w2)\n",
        "  maxm = 0\n",
        "  k = 0\n",
        "  for i in range(len(Out[0])):\n",
        "    if(maxm<Out[0][i]):\n",
        "      maxm = Out[0][i]\n",
        "      k = i\n",
        "  if(k == 0):\n",
        "    print(\"Image is of letter A.\")\n",
        "  elif(k == 1):\n",
        "    print(\"Image is of letter B.\")\n",
        "  else:\n",
        "    print(\"Image is of letter C.\")\n",
        "  plt.imshow(x.reshape(5, 6))\n",
        "  plt.show()\n",
        "# Example: Predicting for letter 'B'\n",
        "predict(x[1], w1, w2)"
      ],
      "metadata": {
        "colab": {
          "base_uri": "https://localhost:8080/",
          "height": 447
        },
        "id": "S8fJSto2ZSd5",
        "outputId": "392c4c73-360e-4339-b3f1-ab50eb18885c"
      },
      "execution_count": null,
      "outputs": [
        {
          "output_type": "stream",
          "name": "stdout",
          "text": [
            "Image is of letter B.\n"
          ]
        },
        {
          "output_type": "display_data",
          "data": {
            "text/plain": [
              "<Figure size 640x480 with 1 Axes>"
            ],
            "image/png": "[encoded data removed]"
          },
          "metadata": {}
        }
      ]
    }
  ]
}